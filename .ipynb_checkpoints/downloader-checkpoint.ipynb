{
 "cells": [
  {
   "cell_type": "code",
   "execution_count": 1,
   "metadata": {},
   "outputs": [],
   "source": [
    "import os\n",
    "import re\n",
    "import yt_dlp\n",
    "import requests\n",
    "import argparse\n",
    "import subprocess\n",
    "import multiprocessing"
   ]
  },
  {
   "cell_type": "code",
   "execution_count": 2,
   "metadata": {},
   "outputs": [],
   "source": [
    "JS_FETCHER_BASE_URL = \"https://storage.googleapis.com/data.yt8m.org/2/j/v/\"\n",
    "VIDEO_ID_FETCHER_BASE_URL = \"https://storage.googleapis.com/data.yt8m.org/2/j/i/\"\n",
    "METADATA_CSV_FILE = \"vocabulary.csv\""
   ]
  },
  {
   "cell_type": "code",
   "execution_count": 3,
   "metadata": {},
   "outputs": [],
   "source": [
    "def make_get_request(url):\n",
    "    try:\n",
    "        resp = requests.get(url)\n",
    "        resp.raise_for_status()\n",
    "    except Exception as err:\n",
    "        return True, err\n",
    "    else:\n",
    "        return False, resp.text"
   ]
  },
  {
   "cell_type": "code",
   "execution_count": 4,
   "metadata": {},
   "outputs": [],
   "source": [
    "def get_knowledge_graph_id(category_names):\n",
    "    id_mapping_dict = {}\n",
    "    with open(METADATA_CSV_FILE, \"r\") as mtd:\n",
    "        kg_data = mtd.read()\n",
    "\n",
    "    kg_data = kg_data.split(\"\\n\")\n",
    "    kg_data = [i.split(\",\") for i in kg_data]\n",
    "    set_categories = set(category_names)\n",
    "\n",
    "    for k in kg_data:\n",
    "        if k[-1] in set_categories:\n",
    "            id_mapping_dict[k[-1]] = k[-2]\n",
    "\n",
    "    return id_mapping_dict"
   ]
  },
  {
   "cell_type": "code",
   "execution_count": 5,
   "metadata": {},
   "outputs": [],
   "source": [
    "def download_video_using_youtube_dl(video_id, output_path):\n",
    "    url = \"http://youtube.com/v/\"+str(id)\n",
    "    ydl_opts = {\n",
    "        'format': 'bestvideo+bestaudio/best',  # Download the best available quality of video and audio\n",
    "        'outtmpl': output_path + \"/\"+str(i)+'.%(ext)s'\n",
    "    }\n",
    "    with yt_dlp.YoutubeDL(ydl_opts) as ydl:\n",
    "        error_code = ydl.download([url])          \n",
    "    return True, \"\""
   ]
  },
  {
   "cell_type": "code",
   "execution_count": 6,
   "metadata": {},
   "outputs": [],
   "source": [
    "def run(selected_categories, output_dir, number_of_videos=50):\n",
    "    id_mapping_dict = get_knowledge_graph_id(selected_categories)\n",
    "\n",
    "    for key, value in id_mapping_dict.items():\n",
    "        print(\"Fetching videos for '{}' category\".format(key))\n",
    "        err1, js_data = make_get_request(JS_FETCHER_BASE_URL+value.split(\"/\")[-1]+\".js\")\n",
    "        if err1:\n",
    "            print(\"Error: {}, with retrieving JS data for category '{}', skipping\".format(str(js_data),key))\n",
    "            return\n",
    "        js_data = eval(js_data.lstrip('p(\"'+value.split(\"/\")[-1]+'\",').rstrip(');'))\n",
    "        tf_records_ids = js_data[2:]\n",
    "        tf_records_ids = tf_records_ids[:number_of_videos + 50] # keep more ids\n",
    "        tf_records_ids_first_two_chars = [i[:2] for i in tf_records_ids]\n",
    "\n",
    "        video_ids_list = []\n",
    "        for ids, two_char_ids in zip(tf_records_ids, tf_records_ids_first_two_chars):\n",
    "            url = VIDEO_ID_FETCHER_BASE_URL + two_char_ids + \"/\" + ids + \".js\"\n",
    "            err2, id_data = make_get_request(url)\n",
    "            if err2:\n",
    "                continue\n",
    "            video_id = re.findall(r\"[a-zA-Z0-9_-]{11}\", id_data)[0]\n",
    "            video_ids_list.append(video_id)\n",
    "\n",
    "        limit = 0\n",
    "\n",
    "        for vid in video_ids_list:\n",
    "            output_path = output_dir + key.replace(\" \",\"_\") + \"##\" +\"%(id)s.%(ext)s\"\n",
    "            err, _ = download_video_using_youtube_dl(vid, output_path)\n",
    "            if not err:\n",
    "                limit += 1\n",
    "                print(\"Video id: {} downloaded successfully.\".format(vid))\n",
    "            else:\n",
    "                print(\"Video id: {} download unsuccessful.\".format(vid))\n",
    "            if limit == number_of_videos:\n",
    "                break"
   ]
  },
  {
   "cell_type": "code",
   "execution_count": 7,
   "metadata": {},
   "outputs": [
    {
     "name": "stdout",
     "output_type": "stream",
     "text": [
      "Fetching videos for 'Airplane' category\n"
     ]
    },
    {
     "ename": "NameError",
     "evalue": "name 'output_dir' is not defined",
     "output_type": "error",
     "traceback": [
      "\u001b[0;31m---------------------------------------------------------------------------\u001b[0m",
      "\u001b[0;31mNameError\u001b[0m                                 Traceback (most recent call last)",
      "Cell \u001b[0;32mIn[7], line 1\u001b[0m\n\u001b[0;32m----> 1\u001b[0m \u001b[43mrun\u001b[49m\u001b[43m(\u001b[49m\u001b[43m[\u001b[49m\u001b[38;5;124;43m\"\u001b[39;49m\u001b[38;5;124;43mAirplane\u001b[39;49m\u001b[38;5;124;43m\"\u001b[39;49m\u001b[43m]\u001b[49m\u001b[43m,\u001b[49m\u001b[43m \u001b[49m\u001b[38;5;124;43m\"\u001b[39;49m\u001b[38;5;124;43m./videos\u001b[39;49m\u001b[38;5;124;43m\"\u001b[39;49m\u001b[43m)\u001b[49m\n",
      "Cell \u001b[0;32mIn[6], line 27\u001b[0m, in \u001b[0;36mrun\u001b[0;34m(selected_categories, output_path, number_of_videos)\u001b[0m\n\u001b[1;32m     24\u001b[0m limit \u001b[38;5;241m=\u001b[39m \u001b[38;5;241m0\u001b[39m\n\u001b[1;32m     26\u001b[0m \u001b[38;5;28;01mfor\u001b[39;00m vid \u001b[38;5;129;01min\u001b[39;00m video_ids_list:\n\u001b[0;32m---> 27\u001b[0m     output_path \u001b[38;5;241m=\u001b[39m \u001b[43moutput_dir\u001b[49m \u001b[38;5;241m+\u001b[39m key\u001b[38;5;241m.\u001b[39mreplace(\u001b[38;5;124m\"\u001b[39m\u001b[38;5;124m \u001b[39m\u001b[38;5;124m\"\u001b[39m,\u001b[38;5;124m\"\u001b[39m\u001b[38;5;124m_\u001b[39m\u001b[38;5;124m\"\u001b[39m) \u001b[38;5;241m+\u001b[39m \u001b[38;5;124m\"\u001b[39m\u001b[38;5;124m##\u001b[39m\u001b[38;5;124m\"\u001b[39m \u001b[38;5;241m+\u001b[39m\u001b[38;5;124m\"\u001b[39m\u001b[38;5;132;01m%(id)s\u001b[39;00m\u001b[38;5;124m.\u001b[39m\u001b[38;5;132;01m%(ext)s\u001b[39;00m\u001b[38;5;124m\"\u001b[39m\n\u001b[1;32m     28\u001b[0m     err, _ \u001b[38;5;241m=\u001b[39m download_video_using_youtube_dl(vid, output_path)\n\u001b[1;32m     29\u001b[0m     \u001b[38;5;28;01mif\u001b[39;00m \u001b[38;5;129;01mnot\u001b[39;00m err:\n",
      "\u001b[0;31mNameError\u001b[0m: name 'output_dir' is not defined"
     ]
    }
   ],
   "source": [
    "run([\"Airplane\"], \"./videos\")"
   ]
  }
 ],
 "metadata": {
  "kernelspec": {
   "display_name": "Python 3 (ipykernel)",
   "language": "python",
   "name": "python3"
  },
  "language_info": {
   "codemirror_mode": {
    "name": "ipython",
    "version": 3
   },
   "file_extension": ".py",
   "mimetype": "text/x-python",
   "name": "python",
   "nbconvert_exporter": "python",
   "pygments_lexer": "ipython3",
   "version": "3.10.6"
  }
 },
 "nbformat": 4,
 "nbformat_minor": 2
}
