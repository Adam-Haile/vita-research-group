{
 "cells": [
  {
   "cell_type": "code",
   "execution_count": 60,
   "metadata": {},
   "outputs": [],
   "source": [
    "import tensorflow as tf\n",
    "import pandas as pd\n",
    "from IPython.display import YouTubeVideo\n",
    "import requests\n",
    "import re\n",
    "import os\n",
    "from __future__ import unicode_literals\n",
    "import yt_dlp"
   ]
  },
  {
   "cell_type": "code",
   "execution_count": 61,
   "metadata": {},
   "outputs": [],
   "source": [
    "vid_ids = []\n",
    "labels = []\n",
    "rgb = []\n",
    "audio = []\n",
    "target = 170\n",
    "#Select category\n",
    "category = \"car\"\n",
    "#max number of tracks\n",
    "max = 10\n",
    "category = category.lower().capitalize()"
   ]
  },
  {
   "cell_type": "code",
   "execution_count": 62,
   "metadata": {},
   "outputs": [],
   "source": [
    "catergories = pd.read_csv(\"vocabulary.csv\")\n",
    "for i in catergories.itertuples():\n",
    "    if (i[4] == category):\n",
    "        target = i[0]"
   ]
  },
  {
   "cell_type": "code",
   "execution_count": 63,
   "metadata": {},
   "outputs": [],
   "source": [
    "recordsFiles = os.listdir(\"../yt8m\") \n",
    "for record in recordsFiles:\n",
    "    record = \"../yt8m/\"+record\n",
    "    for example in tf.compat.v1.python_io.tf_record_iterator(record):\n",
    "        seq_example = tf.train.Example.FromString(example)\n",
    "        label = seq_example.features.feature['labels'].int64_list.value\n",
    "        if target in label:\n",
    "            labels.append(label)\n",
    "            vid_ids.append(seq_example.features.feature['id'].bytes_list.value[0].decode(encoding='UTF-8'))"
   ]
  },
  {
   "cell_type": "code",
   "execution_count": 64,
   "metadata": {},
   "outputs": [
    {
     "name": "stdout",
     "output_type": "stream",
     "text": [
      "Number of videos in this tfrecord:  2040\n",
      "Number of labels in this tfrecord:  2040\n"
     ]
    }
   ],
   "source": [
    "print('Number of videos in this tfrecord: ',len(vid_ids))\n",
    "print ('Number of labels in this tfrecord: ', len (labels))\n",
    "num_tracks = len(vid_ids)\n",
    "if num_tracks > max:\n",
    "    num_tracks = max\n",
    "for i in range(num_tracks):\n",
    "    r = requests.get('http://data.yt8m.org/2/j/i/'+vid_ids[i][0]+vid_ids[i][1]+'/'+vid_ids[i]+'.js')\n",
    "    ids.append(r.text)"
   ]
  },
  {
   "cell_type": "code",
   "execution_count": 65,
   "metadata": {},
   "outputs": [
    {
     "name": "stdout",
     "output_type": "stream",
     "text": [
      "[youtube] Extracting URL: http://youtube.com/v/PijamnAxAM8\n",
      "[youtube] PijamnAxAM8: Downloading webpage\n",
      "[youtube] PijamnAxAM8: Downloading android player API JSON\n",
      "[info] PijamnAxAM8: Downloading 1 format(s): 251\n",
      "[download] Destination: Car\\0\n",
      "[download] 100% of    2.11MiB in 00:00:00 at 12.61MiB/s  \n",
      "[ExtractAudio] Destination: Car\\0.wav\n",
      "Deleting original file Car\\0 (pass -k to keep)\n",
      "[youtube] Extracting URL: http://youtube.com/v/C5K_AESKJA4\n",
      "[youtube] C5K_AESKJA4: Downloading webpage\n",
      "[youtube] C5K_AESKJA4: Downloading android player API JSON\n",
      "[youtube] C5K_AESKJA4: Downloading MPD manifest\n",
      "[info] C5K_AESKJA4: Downloading 1 format(s): 140\n",
      "[download] Destination: Car\\1\n",
      "[download] 100% of    2.08MiB in 00:00:00 at 12.92MiB/s  \n",
      "[FixupM4a] Correcting container of \"Car\\1\"\n",
      "[ExtractAudio] Destination: Car\\1.wav\n",
      "Deleting original file Car\\1 (pass -k to keep)\n",
      "[youtube] Extracting URL: http://youtube.com/v/Oz_3nyUt1a8\n",
      "[youtube] Oz_3nyUt1a8: Downloading webpage\n",
      "[youtube] Oz_3nyUt1a8: Downloading android player API JSON\n",
      "[info] Oz_3nyUt1a8: Downloading 1 format(s): 251\n",
      "[download] Destination: Car\\2\n",
      "[download] 100% of    2.96MiB in 00:00:00 at 14.89MiB/s  \n",
      "[ExtractAudio] Destination: Car\\2.wav\n",
      "Deleting original file Car\\2 (pass -k to keep)\n",
      "[youtube] Extracting URL: http://youtube.com/v/Imz9O-8IH1Q\n",
      "[youtube] Imz9O-8IH1Q: Downloading webpage\n",
      "[youtube] Imz9O-8IH1Q: Downloading android player API JSON\n",
      "[info] Imz9O-8IH1Q: Downloading 1 format(s): 251\n",
      "[download] Destination: Car\\3\n",
      "[download] 100% of    5.20MiB in 00:00:00 at 18.33MiB/s  \n",
      "[ExtractAudio] Destination: Car\\3.wav\n",
      "Deleting original file Car\\3 (pass -k to keep)\n",
      "[youtube] Extracting URL: http://youtube.com/v/c9kIRjBaVdI\n",
      "[youtube] c9kIRjBaVdI: Downloading webpage\n",
      "[youtube] c9kIRjBaVdI: Downloading android player API JSON\n",
      "[info] c9kIRjBaVdI: Downloading 1 format(s): 251\n",
      "[download] Destination: Car\\4\n",
      "[download] 100% of    9.58MiB in 00:00:00 at 24.02MiB/s    \n",
      "[ExtractAudio] Destination: Car\\4.wav\n",
      "Deleting original file Car\\4 (pass -k to keep)\n",
      "[youtube] Extracting URL: http://youtube.com/v/v_6oxD-SCqw\n",
      "[youtube] v_6oxD-SCqw: Downloading webpage\n",
      "[youtube] v_6oxD-SCqw: Downloading android player API JSON\n",
      "[youtube] v_6oxD-SCqw: Downloading MPD manifest\n",
      "[info] v_6oxD-SCqw: Downloading 1 format(s): 140\n",
      "[download] Destination: Car\\5\n",
      "[download] 100% of    1.68MiB in 00:00:00 at 8.73MiB/s   \n",
      "[FixupM4a] Correcting container of \"Car\\5\"\n",
      "[ExtractAudio] Destination: Car\\5.wav\n",
      "Deleting original file Car\\5 (pass -k to keep)\n",
      "[youtube] Extracting URL: http://youtube.com/v/_JwE4fHUWbU\n",
      "[youtube] _JwE4fHUWbU: Downloading webpage\n",
      "[youtube] _JwE4fHUWbU: Downloading android player API JSON\n",
      "[info] _JwE4fHUWbU: Downloading 1 format(s): 251\n",
      "[download] Destination: Car\\6\n",
      "[download] 100% of    4.59MiB in 00:00:00 at 15.03MiB/s  \n",
      "[ExtractAudio] Destination: Car\\6.wav\n",
      "Deleting original file Car\\6 (pass -k to keep)\n",
      "[youtube] Extracting URL: http://youtube.com/v/kGNN7sOK32s\n",
      "[youtube] kGNN7sOK32s: Downloading webpage\n",
      "[youtube] kGNN7sOK32s: Downloading android player API JSON\n",
      "[youtube] kGNN7sOK32s: Downloading MPD manifest\n",
      "[info] kGNN7sOK32s: Downloading 1 format(s): 140\n",
      "[download] Destination: Car\\7\n",
      "[download] 100% of    5.95MiB in 00:00:00 at 16.05MiB/s  \n",
      "[FixupM4a] Correcting container of \"Car\\7\"\n",
      "[ExtractAudio] Destination: Car\\7.wav\n",
      "Deleting original file Car\\7 (pass -k to keep)\n",
      "[youtube] Extracting URL: http://youtube.com/v/p4vpSSVqJsY\n",
      "[youtube] p4vpSSVqJsY: Downloading webpage\n",
      "[youtube] p4vpSSVqJsY: Downloading android player API JSON\n",
      "[youtube] p4vpSSVqJsY: Downloading MPD manifest\n",
      "[info] p4vpSSVqJsY: Downloading 1 format(s): 251\n",
      "[download] Destination: Car\\8\n",
      "[download] 100% of    2.01MiB in 00:00:00 at 12.17MiB/s  \n",
      "[ExtractAudio] Destination: Car\\8.wav\n",
      "Deleting original file Car\\8 (pass -k to keep)\n",
      "[youtube] Extracting URL: http://youtube.com/v/smkifhn2Hqs\n",
      "[youtube] smkifhn2Hqs: Downloading webpage\n",
      "[youtube] smkifhn2Hqs: Downloading android player API JSON\n",
      "[info] smkifhn2Hqs: Downloading 1 format(s): 251\n",
      "[download] Destination: Car\\9\n",
      "[download] 100% of    4.36MiB in 00:00:00 at 13.38MiB/s  \n",
      "[ExtractAudio] Destination: Car\\9.wav\n",
      "Deleting original file Car\\9 (pass -k to keep)\n"
     ]
    }
   ],
   "source": [
    "for i in range(num_tracks):\n",
    "    id = (re.findall(\"(?<=\\\")(.*?)(?=\\\")\", ids[i]))[2]\n",
    "    url = \"http://youtube.com/v/\"+id\n",
    "    ydl_opts = {\n",
    "        'format': 'wav/bestaudio/best',\n",
    "        # ℹ️ See help(yt_dlp.postprocessor) for a list of available Postprocessors and their arguments\n",
    "        'postprocessors': [{  # Extract audio using ffmpeg\n",
    "            'key': 'FFmpegExtractAudio',\n",
    "            'preferredcodec': 'wav',\n",
    "        }],\n",
    "        \"outtmpl\":category+\"/\"+str(i)\n",
    "    }\n",
    "    with yt_dlp.YoutubeDL(ydl_opts) as ydl:\n",
    "            error_code = ydl.download([url])"
   ]
  },
  {
   "cell_type": "code",
   "execution_count": null,
   "metadata": {},
   "outputs": [],
   "source": [
    "\n"
   ]
  }
 ],
 "metadata": {
  "kernelspec": {
   "display_name": "Python 3 (ipykernel)",
   "language": "python",
   "name": "python3"
  },
  "language_info": {
   "codemirror_mode": {
    "name": "ipython",
    "version": 3
   },
   "file_extension": ".py",
   "mimetype": "text/x-python",
   "name": "python",
   "nbconvert_exporter": "python",
   "pygments_lexer": "ipython3",
   "version": "3.10.6"
  },
  "vscode": {
   "interpreter": {
    "hash": "26de051ba29f2982a8de78e945f0abaf191376122a1563185a90213a26c5da77"
   }
  }
 },
 "nbformat": 4,
 "nbformat_minor": 2
}
